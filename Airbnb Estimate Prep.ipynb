{
 "cells": [
  {
   "cell_type": "markdown",
   "metadata": {},
   "source": [
    "# Notebook to prepare data for analysis"
   ]
  },
  {
   "cell_type": "code",
   "execution_count": 1,
   "metadata": {},
   "outputs": [],
   "source": [
    "import json\n",
    "\n",
    "import matplotlib\n",
    "import pandas\n",
    "import shapely.geometry\n",
    "\n",
    "%matplotlib inline"
   ]
  },
  {
   "cell_type": "markdown",
   "metadata": {},
   "source": [
    "## Prep materials"
   ]
  },
  {
   "cell_type": "code",
   "execution_count": 2,
   "metadata": {},
   "outputs": [
    {
     "name": "stderr",
     "output_type": "stream",
     "text": [
      "/anaconda3/lib/python3.7/site-packages/IPython/core/interactiveshell.py:3020: DtypeWarning: Columns (61,62) have mixed types. Specify dtype option on import or set low_memory=False.\n",
      "  interactivity=interactivity, compiler=compiler, result=result)\n"
     ]
    }
   ],
   "source": [
    "listings_all = pandas.read_csv('listings.csv')"
   ]
  },
  {
   "cell_type": "code",
   "execution_count": 3,
   "metadata": {},
   "outputs": [
    {
     "data": {
      "text/plain": [
       "<matplotlib.axes._subplots.AxesSubplot at 0x11bc2de48>"
      ]
     },
     "execution_count": 3,
     "metadata": {},
     "output_type": "execute_result"
    },
    {
     "data": {
      "image/png": "[encoded data removed]",
      "text/plain": [
       "<Figure size 432x288 with 1 Axes>"
      ]
     },
     "metadata": {
      "needs_background": "light"
     },
     "output_type": "display_data"
    }
   ],
   "source": [
    "listings_all['availability_365'].plot.hist(bins=36)"
   ]
  },
  {
   "cell_type": "code",
   "execution_count": 4,
   "metadata": {},
   "outputs": [],
   "source": [
    "listings = listings_all #listings_all[listings_all['availability_365'] >= 30].copy()"
   ]
  },
  {
   "cell_type": "code",
   "execution_count": 5,
   "metadata": {},
   "outputs": [],
   "source": [
    "with open('zoning.geojson') as f:\n",
    "    zoning_raw = json.load(f)"
   ]
  },
  {
   "cell_type": "code",
   "execution_count": 55,
   "metadata": {},
   "outputs": [],
   "source": [
    "with open('zoning_simplifications.json') as f:\n",
    "    zoning_simplifications = json.load(f)"
   ]
  },
  {
   "cell_type": "code",
   "execution_count": 7,
   "metadata": {},
   "outputs": [
    {
     "data": {
      "text/plain": [
       "{'type': 'Feature',\n",
       " 'properties': {'zoning_sim': 'NC-1',\n",
       "  'commercial_hours_of_operation': '6:00AM-11:00PM',\n",
       "  'shape_area': '2.3987989208947789E-7',\n",
       "  'url': 'http://library.amlegal.com/nxt/gateway.dll/California/planning/article7neighborhoodcommercialdistricts?f=templates$fn=default.htm$3.0$vid=amlegal:sanfrancisco_ca$anc=JD_710.1',\n",
       "  'districtname': 'NEIGHBORHOOD COMMERCIAL, CLUSTER',\n",
       "  'zoning': 'NC-1',\n",
       "  'codesection': '710.1',\n",
       "  'objectid': '19770',\n",
       "  'shape_length': '0.0026884456653202106',\n",
       "  'gen': 'Mixed Use'},\n",
       " 'geometry': {'type': 'MultiPolygon',\n",
       "  'coordinates': [[[[-122.428306959, 37.743600279],\n",
       "     [-122.428882686, 37.743565342],\n",
       "     [-122.429249081, 37.743543105],\n",
       "     [-122.429250169, 37.743554407],\n",
       "     [-122.429257392, 37.743629451],\n",
       "     [-122.429264535, 37.743703672],\n",
       "     [-122.429040378, 37.743717196],\n",
       "     [-122.428898126, 37.743725778],\n",
       "     [-122.428911143, 37.743861043],\n",
       "     [-122.42879804, 37.743867866],\n",
       "     [-122.42876889, 37.743869624],\n",
       "     [-122.42842701, 37.743890248],\n",
       "     [-122.428432738, 37.743950509],\n",
       "     [-122.428433517, 37.743958713],\n",
       "     [-122.428436771, 37.743992945],\n",
       "     [-122.428347107, 37.743998354],\n",
       "     [-122.428344803, 37.743998493],\n",
       "     [-122.428341025, 37.743958738],\n",
       "     [-122.428315133, 37.743686296],\n",
       "     [-122.428306959, 37.743600279]]]]}}"
      ]
     },
     "execution_count": 7,
     "metadata": {},
     "output_type": "execute_result"
    }
   ],
   "source": [
    "zoning_raw['features'][0]"
   ]
  },
  {
   "cell_type": "code",
   "execution_count": 8,
   "metadata": {},
   "outputs": [],
   "source": [
    "zone_geometries = []"
   ]
  },
  {
   "cell_type": "code",
   "execution_count": 9,
   "metadata": {},
   "outputs": [],
   "source": [
    "for feature in zoning_raw['features']:\n",
    "    properties = feature['properties']\n",
    "    zone_geometries.append({\n",
    "        'name': properties['districtname'],\n",
    "        'zoning': properties['zoning'],\n",
    "        'geometry': shapely.geometry.shape(feature['geometry'])\n",
    "    })"
   ]
  },
  {
   "cell_type": "markdown",
   "metadata": {},
   "source": [
    "## Join"
   ]
  },
  {
   "cell_type": "code",
   "execution_count": 10,
   "metadata": {},
   "outputs": [
    {
     "data": {
      "text/plain": [
       "1648"
      ]
     },
     "execution_count": 10,
     "metadata": {},
     "output_type": "execute_result"
    }
   ],
   "source": [
    "len(zone_geometries)"
   ]
  },
  {
   "cell_type": "markdown",
   "metadata": {},
   "source": [
    "**Prep Points**"
   ]
  },
  {
   "cell_type": "code",
   "execution_count": 11,
   "metadata": {},
   "outputs": [
    {
     "data": {
      "text/html": [
       "<div>\n",
       "<style scoped>\n",
       "    .dataframe tbody tr th:only-of-type {\n",
       "        vertical-align: middle;\n",
       "    }\n",
       "\n",
       "    .dataframe tbody tr th {\n",
       "        vertical-align: top;\n",
       "    }\n",
       "\n",
       "    .dataframe thead th {\n",
       "        text-align: right;\n",
       "    }\n",
       "</style>\n",
       "<table border=\"1\" class=\"dataframe\">\n",
       "  <thead>\n",
       "    <tr style=\"text-align: right;\">\n",
       "      <th></th>\n",
       "      <th>id</th>\n",
       "      <th>listing_url</th>\n",
       "      <th>scrape_id</th>\n",
       "      <th>last_scraped</th>\n",
       "      <th>name</th>\n",
       "      <th>summary</th>\n",
       "      <th>space</th>\n",
       "      <th>description</th>\n",
       "      <th>experiences_offered</th>\n",
       "      <th>neighborhood_overview</th>\n",
       "      <th>...</th>\n",
       "      <th>instant_bookable</th>\n",
       "      <th>is_business_travel_ready</th>\n",
       "      <th>cancellation_policy</th>\n",
       "      <th>require_guest_profile_picture</th>\n",
       "      <th>require_guest_phone_verification</th>\n",
       "      <th>calculated_host_listings_count</th>\n",
       "      <th>calculated_host_listings_count_entire_homes</th>\n",
       "      <th>calculated_host_listings_count_private_rooms</th>\n",
       "      <th>calculated_host_listings_count_shared_rooms</th>\n",
       "      <th>reviews_per_month</th>\n",
       "    </tr>\n",
       "  </thead>\n",
       "  <tbody>\n",
       "    <tr>\n",
       "      <th>0</th>\n",
       "      <td>958</td>\n",
       "      <td>https://www.airbnb.com/rooms/958</td>\n",
       "      <td>20191204162709</td>\n",
       "      <td>2019-12-04</td>\n",
       "      <td>Bright, Modern Garden Unit - 1BR/1B</td>\n",
       "      <td>New update: the house next door is under const...</td>\n",
       "      <td>Newly remodeled, modern, and bright garden uni...</td>\n",
       "      <td>New update: the house next door is under const...</td>\n",
       "      <td>none</td>\n",
       "      <td>*Quiet cul de sac in friendly neighborhood *St...</td>\n",
       "      <td>...</td>\n",
       "      <td>f</td>\n",
       "      <td>f</td>\n",
       "      <td>moderate</td>\n",
       "      <td>f</td>\n",
       "      <td>f</td>\n",
       "      <td>1</td>\n",
       "      <td>1</td>\n",
       "      <td>0</td>\n",
       "      <td>0</td>\n",
       "      <td>1.79</td>\n",
       "    </tr>\n",
       "    <tr>\n",
       "      <th>1</th>\n",
       "      <td>3850</td>\n",
       "      <td>https://www.airbnb.com/rooms/3850</td>\n",
       "      <td>20191204162709</td>\n",
       "      <td>2019-12-04</td>\n",
       "      <td>Charming room for two</td>\n",
       "      <td>Your own private room plus access to a shared ...</td>\n",
       "      <td>This room can fit two people. Nobody else will...</td>\n",
       "      <td>Your own private room plus access to a shared ...</td>\n",
       "      <td>none</td>\n",
       "      <td>This is a quiet, safe neighborhood on a substa...</td>\n",
       "      <td>...</td>\n",
       "      <td>f</td>\n",
       "      <td>f</td>\n",
       "      <td>strict_14_with_grace_period</td>\n",
       "      <td>f</td>\n",
       "      <td>f</td>\n",
       "      <td>3</td>\n",
       "      <td>0</td>\n",
       "      <td>3</td>\n",
       "      <td>0</td>\n",
       "      <td>1.38</td>\n",
       "    </tr>\n",
       "    <tr>\n",
       "      <th>2</th>\n",
       "      <td>5858</td>\n",
       "      <td>https://www.airbnb.com/rooms/5858</td>\n",
       "      <td>20191204162709</td>\n",
       "      <td>2019-12-05</td>\n",
       "      <td>Creative Sanctuary</td>\n",
       "      <td>NaN</td>\n",
       "      <td>We live in a large Victorian house on a quiet ...</td>\n",
       "      <td>We live in a large Victorian house on a quiet ...</td>\n",
       "      <td>none</td>\n",
       "      <td>I love how our neighborhood feels quiet but is...</td>\n",
       "      <td>...</td>\n",
       "      <td>f</td>\n",
       "      <td>f</td>\n",
       "      <td>strict_14_with_grace_period</td>\n",
       "      <td>f</td>\n",
       "      <td>f</td>\n",
       "      <td>1</td>\n",
       "      <td>1</td>\n",
       "      <td>0</td>\n",
       "      <td>0</td>\n",
       "      <td>0.86</td>\n",
       "    </tr>\n",
       "    <tr>\n",
       "      <th>3</th>\n",
       "      <td>7918</td>\n",
       "      <td>https://www.airbnb.com/rooms/7918</td>\n",
       "      <td>20191204162709</td>\n",
       "      <td>2019-12-04</td>\n",
       "      <td>A Friendly Room - UCSF/USF - San Francisco</td>\n",
       "      <td>Nice and good public transportation.  7 minute...</td>\n",
       "      <td>Settle down, S.F. resident, student, hospital,...</td>\n",
       "      <td>Nice and good public transportation.  7 minute...</td>\n",
       "      <td>none</td>\n",
       "      <td>Shopping old town, restaurants, McDonald, Whol...</td>\n",
       "      <td>...</td>\n",
       "      <td>f</td>\n",
       "      <td>f</td>\n",
       "      <td>strict_14_with_grace_period</td>\n",
       "      <td>f</td>\n",
       "      <td>f</td>\n",
       "      <td>9</td>\n",
       "      <td>0</td>\n",
       "      <td>9</td>\n",
       "      <td>0</td>\n",
       "      <td>0.14</td>\n",
       "    </tr>\n",
       "    <tr>\n",
       "      <th>4</th>\n",
       "      <td>8142</td>\n",
       "      <td>https://www.airbnb.com/rooms/8142</td>\n",
       "      <td>20191204162709</td>\n",
       "      <td>2019-12-04</td>\n",
       "      <td>Friendly Room Apt. Style -UCSF/USF - San Franc...</td>\n",
       "      <td>Nice and good public transportation.  7 minute...</td>\n",
       "      <td>Settle down, S.F. resident, student, hospital,...</td>\n",
       "      <td>Nice and good public transportation.  7 minute...</td>\n",
       "      <td>none</td>\n",
       "      <td>NaN</td>\n",
       "      <td>...</td>\n",
       "      <td>f</td>\n",
       "      <td>f</td>\n",
       "      <td>strict_14_with_grace_period</td>\n",
       "      <td>f</td>\n",
       "      <td>f</td>\n",
       "      <td>9</td>\n",
       "      <td>0</td>\n",
       "      <td>9</td>\n",
       "      <td>0</td>\n",
       "      <td>0.13</td>\n",
       "    </tr>\n",
       "  </tbody>\n",
       "</table>\n",
       "<p>5 rows × 106 columns</p>\n",
       "</div>"
      ],
      "text/plain": [
       "     id                        listing_url       scrape_id last_scraped  \\\n",
       "0   958   https://www.airbnb.com/rooms/958  20191204162709   2019-12-04   \n",
       "1  3850  https://www.airbnb.com/rooms/3850  20191204162709   2019-12-04   \n",
       "2  5858  https://www.airbnb.com/rooms/5858  20191204162709   2019-12-05   \n",
       "3  7918  https://www.airbnb.com/rooms/7918  20191204162709   2019-12-04   \n",
       "4  8142  https://www.airbnb.com/rooms/8142  20191204162709   2019-12-04   \n",
       "\n",
       "                                                name  \\\n",
       "0                Bright, Modern Garden Unit - 1BR/1B   \n",
       "1                              Charming room for two   \n",
       "2                                 Creative Sanctuary   \n",
       "3         A Friendly Room - UCSF/USF - San Francisco   \n",
       "4  Friendly Room Apt. Style -UCSF/USF - San Franc...   \n",
       "\n",
       "                                             summary  \\\n",
       "0  New update: the house next door is under const...   \n",
       "1  Your own private room plus access to a shared ...   \n",
       "2                                                NaN   \n",
       "3  Nice and good public transportation.  7 minute...   \n",
       "4  Nice and good public transportation.  7 minute...   \n",
       "\n",
       "                                               space  \\\n",
       "0  Newly remodeled, modern, and bright garden uni...   \n",
       "1  This room can fit two people. Nobody else will...   \n",
       "2  We live in a large Victorian house on a quiet ...   \n",
       "3  Settle down, S.F. resident, student, hospital,...   \n",
       "4  Settle down, S.F. resident, student, hospital,...   \n",
       "\n",
       "                                         description experiences_offered  \\\n",
       "0  New update: the house next door is under const...                none   \n",
       "1  Your own private room plus access to a shared ...                none   \n",
       "2  We live in a large Victorian house on a quiet ...                none   \n",
       "3  Nice and good public transportation.  7 minute...                none   \n",
       "4  Nice and good public transportation.  7 minute...                none   \n",
       "\n",
       "                               neighborhood_overview  ... instant_bookable  \\\n",
       "0  *Quiet cul de sac in friendly neighborhood *St...  ...                f   \n",
       "1  This is a quiet, safe neighborhood on a substa...  ...                f   \n",
       "2  I love how our neighborhood feels quiet but is...  ...                f   \n",
       "3  Shopping old town, restaurants, McDonald, Whol...  ...                f   \n",
       "4                                                NaN  ...                f   \n",
       "\n",
       "  is_business_travel_ready          cancellation_policy  \\\n",
       "0                        f                     moderate   \n",
       "1                        f  strict_14_with_grace_period   \n",
       "2                        f  strict_14_with_grace_period   \n",
       "3                        f  strict_14_with_grace_period   \n",
       "4                        f  strict_14_with_grace_period   \n",
       "\n",
       "  require_guest_profile_picture require_guest_phone_verification  \\\n",
       "0                             f                                f   \n",
       "1                             f                                f   \n",
       "2                             f                                f   \n",
       "3                             f                                f   \n",
       "4                             f                                f   \n",
       "\n",
       "   calculated_host_listings_count  \\\n",
       "0                               1   \n",
       "1                               3   \n",
       "2                               1   \n",
       "3                               9   \n",
       "4                               9   \n",
       "\n",
       "   calculated_host_listings_count_entire_homes  \\\n",
       "0                                            1   \n",
       "1                                            0   \n",
       "2                                            1   \n",
       "3                                            0   \n",
       "4                                            0   \n",
       "\n",
       "  calculated_host_listings_count_private_rooms  \\\n",
       "0                                            0   \n",
       "1                                            3   \n",
       "2                                            0   \n",
       "3                                            9   \n",
       "4                                            9   \n",
       "\n",
       "   calculated_host_listings_count_shared_rooms  reviews_per_month  \n",
       "0                                            0               1.79  \n",
       "1                                            0               1.38  \n",
       "2                                            0               0.86  \n",
       "3                                            0               0.14  \n",
       "4                                            0               0.13  \n",
       "\n",
       "[5 rows x 106 columns]"
      ]
     },
     "execution_count": 11,
     "metadata": {},
     "output_type": "execute_result"
    }
   ],
   "source": [
    "listings.head(5)"
   ]
  },
  {
   "cell_type": "code",
   "execution_count": 12,
   "metadata": {},
   "outputs": [],
   "source": [
    "listings['point'] = listings.apply(lambda x: shapely.geometry.Point(x['longitude'], x['latitude']), axis=1)"
   ]
  },
  {
   "cell_type": "markdown",
   "metadata": {},
   "source": [
    "**Prep Lookup**"
   ]
  },
  {
   "cell_type": "code",
   "execution_count": 13,
   "metadata": {},
   "outputs": [],
   "source": [
    "def lookup_zone(point):\n",
    "    results = list(filter(lambda x: x['geometry'].contains(point), zone_geometries))\n",
    "    if len(results) == 0:\n",
    "        return [{'name': 'Unknown', 'zoning': 'unknown'}]\n",
    "    else:\n",
    "        return results"
   ]
  },
  {
   "cell_type": "markdown",
   "metadata": {},
   "source": [
    "**Test Lookup**"
   ]
  },
  {
   "cell_type": "code",
   "execution_count": 14,
   "metadata": {},
   "outputs": [],
   "source": [
    "sample = listings.iloc[100]"
   ]
  },
  {
   "cell_type": "code",
   "execution_count": 15,
   "metadata": {},
   "outputs": [
    {
     "data": {
      "text/plain": [
       "[{'name': 'RESIDENTIAL- HOUSE, ONE FAMILY',\n",
       "  'zoning': 'RH-1',\n",
       "  'geometry': <shapely.geometry.multipolygon.MultiPolygon at 0x11d4c30b8>}]"
      ]
     },
     "execution_count": 15,
     "metadata": {},
     "output_type": "execute_result"
    }
   ],
   "source": [
    "lookup_zone(sample['point'])"
   ]
  },
  {
   "cell_type": "markdown",
   "metadata": {},
   "source": [
    "**Execute**"
   ]
  },
  {
   "cell_type": "code",
   "execution_count": 16,
   "metadata": {},
   "outputs": [],
   "source": [
    "def lookup_zone_str_with_error_handle(point):\n",
    "    try:\n",
    "        return lookup_zone(point)\n",
    "    except:\n",
    "        return [{'name': 'Error', 'zoning': 'error'}]"
   ]
  },
  {
   "cell_type": "code",
   "execution_count": 17,
   "metadata": {},
   "outputs": [],
   "source": [
    "listings['zoningDetailed'] = listings['point'].map(lambda x: lookup_zone_str_with_error_handle(x))"
   ]
  },
  {
   "cell_type": "code",
   "execution_count": 39,
   "metadata": {},
   "outputs": [],
   "source": [
    "def serialize_zoning_detailed(original_list):\n",
    "    new_list = list(map(lambda x: {'name': x['name'], 'zoning': x['zoning']}, original_list))\n",
    "    return json.dumps(new_list)"
   ]
  },
  {
   "cell_type": "code",
   "execution_count": 40,
   "metadata": {},
   "outputs": [],
   "source": [
    "listings['zoning'] = listings['zoningDetailed'].map(lambda x: x[0]['zoning'])\n",
    "listings['numZones'] = listings['zoningDetailed'].map(lambda x: len(x))\n",
    "listings['zoningDetailedJson'] = listings['zoningDetailed'].map(serialize_zoning_detailed)"
   ]
  },
  {
   "cell_type": "markdown",
   "metadata": {},
   "source": [
    "## Cleanup"
   ]
  },
  {
   "cell_type": "markdown",
   "metadata": {},
   "source": [
    "**Siplify Zones**"
   ]
  },
  {
   "cell_type": "code",
   "execution_count": 56,
   "metadata": {},
   "outputs": [],
   "source": [
    "zone_counts = listings.groupby('zoning').count()['id']"
   ]
  },
  {
   "cell_type": "code",
   "execution_count": 57,
   "metadata": {},
   "outputs": [
    {
     "data": {
      "text/plain": [
       "zoning\n",
       "RH-2       1522\n",
       "RH-1       1230\n",
       "RH-3        892\n",
       "P           621\n",
       "RM-1        479\n",
       "RC-4        419\n",
       "C-3-G       357\n",
       "RH-1(D)     244\n",
       "RTO         193\n",
       "RM-3        183\n",
       "Name: id, dtype: int64"
      ]
     },
     "execution_count": 57,
     "metadata": {},
     "output_type": "execute_result"
    }
   ],
   "source": [
    "zone_counts.sort_values(ascending=False).head(10)"
   ]
  },
  {
   "cell_type": "code",
   "execution_count": 58,
   "metadata": {},
   "outputs": [],
   "source": [
    "listings['zoningSimplified'] = listings['zoning'].map(lambda x: zoning_simplifications.get(x, 'unknown'))"
   ]
  },
  {
   "cell_type": "code",
   "execution_count": 59,
   "metadata": {},
   "outputs": [],
   "source": [
    "zone_counts_simplified = listings.groupby('zoningSimplified').count()['id']"
   ]
  },
  {
   "cell_type": "code",
   "execution_count": 60,
   "metadata": {},
   "outputs": [
    {
     "data": {
      "text/plain": [
       "<matplotlib.axes._subplots.AxesSubplot at 0x11d3bbd68>"
      ]
     },
     "execution_count": 60,
     "metadata": {},
     "output_type": "execute_result"
    },
    {
     "data": {
      "image/png": "[encoded data removed]",
      "text/plain": [
       "<Figure size 432x288 with 1 Axes>"
      ]
     },
     "metadata": {
      "needs_background": "light"
     },
     "output_type": "display_data"
    }
   ],
   "source": [
    "zone_counts_simplified.sort_values(ascending=True).plot.barh()"
   ]
  },
  {
   "cell_type": "code",
   "execution_count": 61,
   "metadata": {},
   "outputs": [
    {
     "name": "stderr",
     "output_type": "stream",
     "text": [
      "/anaconda3/lib/python3.7/site-packages/ipykernel_launcher.py:1: FutureWarning: The signature of `Series.to_csv` was aligned to that of `DataFrame.to_csv`, and argument 'header' will change its default value from False to True: please pass an explicit value to suppress this warning.\n",
      "  \"\"\"Entry point for launching an IPython kernel.\n"
     ]
    }
   ],
   "source": [
    "zone_counts_simplified.sort_values(ascending=False).to_csv('sorted_counts.csv')"
   ]
  },
  {
   "cell_type": "markdown",
   "metadata": {},
   "source": [
    "## Export"
   ]
  },
  {
   "cell_type": "code",
   "execution_count": 62,
   "metadata": {},
   "outputs": [],
   "source": [
    "with open('col_mapping.json') as f:\n",
    "    col_mapping = json.load(f)"
   ]
  },
  {
   "cell_type": "code",
   "execution_count": 63,
   "metadata": {},
   "outputs": [],
   "source": [
    "listings.rename(columns=col_mapping).to_csv('listings_with_zone.csv')"
   ]
  },
  {
   "cell_type": "code",
   "execution_count": null,
   "metadata": {},
   "outputs": [],
   "source": []
  }
 ],
 "metadata": {
  "kernelspec": {
   "display_name": "Python 3",
   "language": "python",
   "name": "python3"
  },
  "language_info": {
   "codemirror_mode": {
    "name": "ipython",
    "version": 3
   },
   "file_extension": ".py",
   "mimetype": "text/x-python",
   "name": "python",
   "nbconvert_exporter": "python",
   "pygments_lexer": "ipython3",
   "version": "3.7.1"
  }
 },
 "nbformat": 4,
 "nbformat_minor": 2
}
