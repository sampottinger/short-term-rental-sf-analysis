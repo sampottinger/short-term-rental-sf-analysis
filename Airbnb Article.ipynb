{
 "cells": [
  {
   "cell_type": "markdown",
   "metadata": {},
   "source": [
    "# Source Notebook for Airbnb SF Housing Article"
   ]
  },
  {
   "cell_type": "code",
   "execution_count": 1,
   "metadata": {},
   "outputs": [],
   "source": [
    "import sqlite3\n",
    "\n",
    "import matplotlib\n",
    "import numpy\n",
    "import pandas\n",
    "import scipy.stats\n",
    "\n",
    "%matplotlib inline"
   ]
  },
  {
   "cell_type": "markdown",
   "metadata": {},
   "source": [
    "## Load data"
   ]
  },
  {
   "cell_type": "code",
   "execution_count": 2,
   "metadata": {},
   "outputs": [],
   "source": [
    "connection = sqlite3.connect('airbnb_zoning.sqlite')"
   ]
  },
  {
   "cell_type": "code",
   "execution_count": 3,
   "metadata": {},
   "outputs": [],
   "source": [
    "def execute_sql(sql):\n",
    "    return pandas.read_sql(sql, connection)"
   ]
  },
  {
   "cell_type": "markdown",
   "metadata": {},
   "source": [
    "## Market Characteristics"
   ]
  },
  {
   "cell_type": "markdown",
   "metadata": {},
   "source": [
    "**How many listings to be excluded from analysis?**"
   ]
  },
  {
   "cell_type": "markdown",
   "metadata": {},
   "source": [
    "Number of properties that are hotels or hostels."
   ]
  },
  {
   "cell_type": "code",
   "execution_count": 4,
   "metadata": {},
   "outputs": [
    {
     "data": {
      "text/html": [
       "<div>\n",
       "<style scoped>\n",
       "    .dataframe tbody tr th:only-of-type {\n",
       "        vertical-align: middle;\n",
       "    }\n",
       "\n",
       "    .dataframe tbody tr th {\n",
       "        vertical-align: top;\n",
       "    }\n",
       "\n",
       "    .dataframe thead th {\n",
       "        text-align: right;\n",
       "    }\n",
       "</style>\n",
       "<table border=\"1\" class=\"dataframe\">\n",
       "  <thead>\n",
       "    <tr style=\"text-align: right;\">\n",
       "      <th></th>\n",
       "      <th>percentHotels</th>\n",
       "    </tr>\n",
       "  </thead>\n",
       "  <tbody>\n",
       "    <tr>\n",
       "      <th>0</th>\n",
       "      <td>0.079222</td>\n",
       "    </tr>\n",
       "  </tbody>\n",
       "</table>\n",
       "</div>"
      ],
      "text/plain": [
       "   percentHotels\n",
       "0       0.079222"
      ]
     },
     "execution_count": 4,
     "metadata": {},
     "output_type": "execute_result"
    }
   ],
   "source": [
    "execute_sql(\n",
    "    '''\n",
    "    SELECT\n",
    "        SUM(\n",
    "            CASE\n",
    "                WHEN\n",
    "                    (lower(propertyType) like '%hotel%')\n",
    "                    OR (lower(propertyType) like '%hostel%')\n",
    "                    OR (roomType = \"Hotel room\")\n",
    "                THEN 1.0\n",
    "                ELSE 0/0\n",
    "            END\n",
    "        ) / count(1) AS percentHotels\n",
    "    FROM\n",
    "        listings_with_zone\n",
    "    '''\n",
    ")"
   ]
  },
  {
   "cell_type": "markdown",
   "metadata": {},
   "source": [
    "Number of properties that are long term rentals"
   ]
  },
  {
   "cell_type": "code",
   "execution_count": 5,
   "metadata": {},
   "outputs": [
    {
     "data": {
      "text/html": [
       "<div>\n",
       "<style scoped>\n",
       "    .dataframe tbody tr th:only-of-type {\n",
       "        vertical-align: middle;\n",
       "    }\n",
       "\n",
       "    .dataframe tbody tr th {\n",
       "        vertical-align: top;\n",
       "    }\n",
       "\n",
       "    .dataframe thead th {\n",
       "        text-align: right;\n",
       "    }\n",
       "</style>\n",
       "<table border=\"1\" class=\"dataframe\">\n",
       "  <thead>\n",
       "    <tr style=\"text-align: right;\">\n",
       "      <th></th>\n",
       "      <th>percentLong</th>\n",
       "    </tr>\n",
       "  </thead>\n",
       "  <tbody>\n",
       "    <tr>\n",
       "      <th>0</th>\n",
       "      <td>0.037501</td>\n",
       "    </tr>\n",
       "  </tbody>\n",
       "</table>\n",
       "</div>"
      ],
      "text/plain": [
       "   percentLong\n",
       "0     0.037501"
      ]
     },
     "execution_count": 5,
     "metadata": {},
     "output_type": "execute_result"
    }
   ],
   "source": [
    "execute_sql(\n",
    "    '''\n",
    "    SELECT\n",
    "        SUM(\n",
    "            CASE\n",
    "                WHEN minimumNights + 0.0 > 30 THEN 1.0\n",
    "                ELSE 0/0\n",
    "            END\n",
    "        ) / count(1) AS percentLong\n",
    "    FROM\n",
    "        listings_with_zone\n",
    "    '''\n",
    ")"
   ]
  },
  {
   "cell_type": "markdown",
   "metadata": {},
   "source": [
    "**How many properties per host?**"
   ]
  },
  {
   "cell_type": "code",
   "execution_count": 6,
   "metadata": {},
   "outputs": [],
   "source": [
    "listings_per_host = execute_sql(\n",
    "    '''\n",
    "    SELECT\n",
    "        hostId,\n",
    "        count(1) AS cnt\n",
    "    FROM\n",
    "        listings_with_zone_filtered\n",
    "    GROUP BY\n",
    "        hostId\n",
    "    ORDER BY\n",
    "        cnt DESC\n",
    "    '''\n",
    ")"
   ]
  },
  {
   "cell_type": "code",
   "execution_count": 7,
   "metadata": {},
   "outputs": [],
   "source": [
    "total_hosts = execute_sql(\n",
    "    '''\n",
    "    SELECT\n",
    "        count(DISTINCT hostId) AS cnt\n",
    "    FROM\n",
    "        listings_with_zone_filtered\n",
    "    '''\n",
    ")"
   ]
  },
  {
   "cell_type": "code",
   "execution_count": 8,
   "metadata": {},
   "outputs": [],
   "source": [
    "listings_per_host['cntCapped'] = listings_per_host['cnt'].apply(lambda x: '5 or More' if x >= 5 else str(x))"
   ]
  },
  {
   "cell_type": "code",
   "execution_count": 9,
   "metadata": {},
   "outputs": [],
   "source": [
    "listings_per_host_counts = listings_per_host.groupby('cntCapped')['hostId'].count()"
   ]
  },
  {
   "cell_type": "code",
   "execution_count": 10,
   "metadata": {},
   "outputs": [],
   "source": [
    "total_hosts_cnt = total_hosts.iloc[0]['cnt']"
   ]
  },
  {
   "cell_type": "code",
   "execution_count": 11,
   "metadata": {},
   "outputs": [
    {
     "data": {
      "text/plain": [
       "Text(0, 0.5, 'Percent of Hosts')"
      ]
     },
     "execution_count": 11,
     "metadata": {},
     "output_type": "execute_result"
    },
    {
     "data": {
      "image/png": "[encoded data removed]",
      "text/plain": [
       "<Figure size 864x360 with 1 Axes>"
      ]
     },
     "metadata": {
      "needs_background": "light"
     },
     "output_type": "display_data"
    }
   ],
   "source": [
    "ax = (listings_per_host_counts / total_hosts_cnt * 100).plot.bar(\n",
    "    title='Number of Listings per Host',\n",
    "    figsize=(12,5),\n",
    "    rot=0\n",
    ")\n",
    "ax.set_xlabel('Number of Host Listings')\n",
    "ax.set_ylabel('Percent of Hosts')"
   ]
  },
  {
   "cell_type": "markdown",
   "metadata": {},
   "source": [
    "Number of hosts with less than 5 listings"
   ]
  },
  {
   "cell_type": "code",
   "execution_count": 12,
   "metadata": {},
   "outputs": [
    {
     "data": {
      "text/plain": [
       "0.965121834687052"
      ]
     },
     "execution_count": 12,
     "metadata": {},
     "output_type": "execute_result"
    }
   ],
   "source": [
    "listings_per_host[listings_per_host['cnt'] < 5].shape[0] / total_hosts_cnt"
   ]
  },
  {
   "cell_type": "markdown",
   "metadata": {},
   "source": [
    "Number of hosts with 1 listing."
   ]
  },
  {
   "cell_type": "code",
   "execution_count": 13,
   "metadata": {},
   "outputs": [
    {
     "data": {
      "text/plain": [
       "0.7479694218824654"
      ]
     },
     "execution_count": 13,
     "metadata": {},
     "output_type": "execute_result"
    }
   ],
   "source": [
    "listings_per_host[listings_per_host['cnt'] == 1].shape[0] / total_hosts_cnt"
   ]
  },
  {
   "cell_type": "markdown",
   "metadata": {},
   "source": [
    "**How much is licensed**"
   ]
  },
  {
   "cell_type": "code",
   "execution_count": 14,
   "metadata": {},
   "outputs": [],
   "source": [
    "licensed_status = execute_sql(\n",
    "    '''\n",
    "    SELECT\n",
    "        (\n",
    "            CASE\n",
    "                WHEN license != \"\" THEN \"yes\"\n",
    "                ELSE \"no\"\n",
    "            END\n",
    "        ) AS isLicensed,\n",
    "        count(1) AS cnt\n",
    "    FROM\n",
    "        listings_with_zone_filtered\n",
    "    GROUP BY\n",
    "        isLicensed\n",
    "    ORDER BY\n",
    "        cnt DESC\n",
    "    '''\n",
    ")"
   ]
  },
  {
   "cell_type": "code",
   "execution_count": 15,
   "metadata": {},
   "outputs": [],
   "source": [
    "licensed_status['percent'] = licensed_status['cnt'] / licensed_status['cnt'].sum() * 100"
   ]
  },
  {
   "cell_type": "code",
   "execution_count": 16,
   "metadata": {},
   "outputs": [
    {
     "data": {
      "text/plain": [
       "Text(0, 0.5, 'License Listed')"
      ]
     },
     "execution_count": 16,
     "metadata": {},
     "output_type": "execute_result"
    },
    {
     "data": {
      "image/png": "[encoded data removed]",
      "text/plain": [
       "<Figure size 432x288 with 1 Axes>"
      ]
     },
     "metadata": {
      "needs_background": "light"
     },
     "output_type": "display_data"
    }
   ],
   "source": [
    "ax = licensed_status.plot.barh(x='isLicensed', y='percent', legend=False, title=\"Percent of Listings Have License\")\n",
    "ax.set_xlabel(\"Percent of Listings\")\n",
    "ax.set_ylabel(\"License Listed\")"
   ]
  },
  {
   "cell_type": "code",
   "execution_count": 17,
   "metadata": {},
   "outputs": [
    {
     "data": {
      "text/html": [
       "<div>\n",
       "<style scoped>\n",
       "    .dataframe tbody tr th:only-of-type {\n",
       "        vertical-align: middle;\n",
       "    }\n",
       "\n",
       "    .dataframe tbody tr th {\n",
       "        vertical-align: top;\n",
       "    }\n",
       "\n",
       "    .dataframe thead th {\n",
       "        text-align: right;\n",
       "    }\n",
       "</style>\n",
       "<table border=\"1\" class=\"dataframe\">\n",
       "  <thead>\n",
       "    <tr style=\"text-align: right;\">\n",
       "      <th></th>\n",
       "      <th>isLicensed</th>\n",
       "      <th>cnt</th>\n",
       "      <th>percent</th>\n",
       "    </tr>\n",
       "  </thead>\n",
       "  <tbody>\n",
       "    <tr>\n",
       "      <th>0</th>\n",
       "      <td>yes</td>\n",
       "      <td>4611</td>\n",
       "      <td>61.06476</td>\n",
       "    </tr>\n",
       "    <tr>\n",
       "      <th>1</th>\n",
       "      <td>no</td>\n",
       "      <td>2940</td>\n",
       "      <td>38.93524</td>\n",
       "    </tr>\n",
       "  </tbody>\n",
       "</table>\n",
       "</div>"
      ],
      "text/plain": [
       "  isLicensed   cnt   percent\n",
       "0        yes  4611  61.06476\n",
       "1         no  2940  38.93524"
      ]
     },
     "execution_count": 17,
     "metadata": {},
     "output_type": "execute_result"
    }
   ],
   "source": [
    "licensed_status"
   ]
  },
  {
   "cell_type": "markdown",
   "metadata": {},
   "source": [
    "**Potentially absentee hosts**"
   ]
  },
  {
   "cell_type": "code",
   "execution_count": 18,
   "metadata": {},
   "outputs": [],
   "source": [
    "absentee = execute_sql(\n",
    "    '''\n",
    "    SELECT\n",
    "        summarized.isLocal AS isLocal,\n",
    "        count(1) AS cnt\n",
    "    FROM\n",
    "        (\n",
    "            SELECT\n",
    "                hostId,\n",
    "                (\n",
    "                    CASE\n",
    "                        WHEN hosts_local.isLocalCnt + 0.0 > 0 THEN \"yes\"\n",
    "                        ELSE \"no\"\n",
    "                    END\n",
    "                ) AS isLocal\n",
    "            FROM\n",
    "                (\n",
    "                    SELECT\n",
    "                        sum(\n",
    "                            CASE\n",
    "                                WHEN hostLocation like \"%San Francisco%\" THEN 1\n",
    "                                WHEN hostLocation like \"%California%\" THEN 1\n",
    "                                ELSE 0\n",
    "                            END\n",
    "                        ) AS isLocalCnt,\n",
    "                        hostId\n",
    "                    FROM\n",
    "                        listings_with_zone_filtered\n",
    "                    GROUP BY\n",
    "                        hostId\n",
    "                ) hosts_local\n",
    "        ) summarized\n",
    "    GROUP BY\n",
    "        isLocal\n",
    "    '''\n",
    ")"
   ]
  },
  {
   "cell_type": "code",
   "execution_count": 19,
   "metadata": {},
   "outputs": [],
   "source": [
    "absentee['percent'] = absentee['cnt'] / absentee['cnt'].sum() * 100"
   ]
  },
  {
   "cell_type": "code",
   "execution_count": 20,
   "metadata": {},
   "outputs": [
    {
     "data": {
      "text/plain": [
       "Text(0, 0.5, 'Percent of Hosts')"
      ]
     },
     "execution_count": 20,
     "metadata": {},
     "output_type": "execute_result"
    },
    {
     "data": {
      "image/png": "[encoded data removed]",
      "text/plain": [
       "<Figure size 432x288 with 1 Axes>"
      ]
     },
     "metadata": {
      "needs_background": "light"
     },
     "output_type": "display_data"
    }
   ],
   "source": [
    "ax = absentee.plot.bar(x='isLocal', y='percent', title='Percent of Hosts with Local Location', legend=None)\n",
    "ax.set_xlabel('Is Local')\n",
    "ax.set_ylabel('Percent of Hosts')"
   ]
  },
  {
   "cell_type": "code",
   "execution_count": 21,
   "metadata": {},
   "outputs": [
    {
     "data": {
      "text/html": [
       "<div>\n",
       "<style scoped>\n",
       "    .dataframe tbody tr th:only-of-type {\n",
       "        vertical-align: middle;\n",
       "    }\n",
       "\n",
       "    .dataframe tbody tr th {\n",
       "        vertical-align: top;\n",
       "    }\n",
       "\n",
       "    .dataframe thead th {\n",
       "        text-align: right;\n",
       "    }\n",
       "</style>\n",
       "<table border=\"1\" class=\"dataframe\">\n",
       "  <thead>\n",
       "    <tr style=\"text-align: right;\">\n",
       "      <th></th>\n",
       "      <th>isLocal</th>\n",
       "      <th>cnt</th>\n",
       "      <th>percent</th>\n",
       "    </tr>\n",
       "  </thead>\n",
       "  <tbody>\n",
       "    <tr>\n",
       "      <th>0</th>\n",
       "      <td>no</td>\n",
       "      <td>474</td>\n",
       "      <td>11.323459</td>\n",
       "    </tr>\n",
       "    <tr>\n",
       "      <th>1</th>\n",
       "      <td>yes</td>\n",
       "      <td>3712</td>\n",
       "      <td>88.676541</td>\n",
       "    </tr>\n",
       "  </tbody>\n",
       "</table>\n",
       "</div>"
      ],
      "text/plain": [
       "  isLocal   cnt    percent\n",
       "0      no   474  11.323459\n",
       "1     yes  3712  88.676541"
      ]
     },
     "execution_count": 21,
     "metadata": {},
     "output_type": "execute_result"
    }
   ],
   "source": [
    "absentee"
   ]
  },
  {
   "cell_type": "markdown",
   "metadata": {},
   "source": [
    "**Potentially absentee with mulitple listings.**"
   ]
  },
  {
   "cell_type": "code",
   "execution_count": 22,
   "metadata": {},
   "outputs": [],
   "source": [
    "absentee_detailed = execute_sql(\n",
    "    '''\n",
    "    SELECT\n",
    "        hostId,\n",
    "        (\n",
    "            CASE\n",
    "                WHEN hosts_local.isLocalCnt + 0.0 > 0 THEN \"yes\"\n",
    "                ELSE \"no\"\n",
    "            END\n",
    "        ) AS isLocal,\n",
    "        numListings\n",
    "    FROM\n",
    "        (\n",
    "            SELECT\n",
    "                sum(\n",
    "                    CASE\n",
    "                        WHEN hostLocation like \"%San Francisco%\" THEN 1\n",
    "                        WHEN hostLocation like \"%California%\" THEN 1\n",
    "                        ELSE 0\n",
    "                    END\n",
    "                ) AS isLocalCnt,\n",
    "                hostId,\n",
    "                count(1) AS numListings\n",
    "            FROM\n",
    "                listings_with_zone_filtered\n",
    "            GROUP BY\n",
    "                hostId\n",
    "        ) hosts_local\n",
    "    '''\n",
    ")"
   ]
  },
  {
   "cell_type": "code",
   "execution_count": 23,
   "metadata": {},
   "outputs": [],
   "source": [
    "absentee_subset_remote = absentee_detailed[absentee_detailed['isLocal'] == 'no']\n",
    "absentee_subset_local = absentee_detailed[absentee_detailed['isLocal'] == 'yes']"
   ]
  },
  {
   "cell_type": "markdown",
   "metadata": {},
   "source": [
    "Statistical test if absentee hosts are more likely to hvae >= 3 listings."
   ]
  },
  {
   "cell_type": "code",
   "execution_count": 24,
   "metadata": {},
   "outputs": [],
   "source": [
    "contingency = [\n",
    "    [\n",
    "        absentee_subset_local[absentee_subset_local['numListings'] >= 3].shape[0],\n",
    "        absentee_subset_local[absentee_subset_local['numListings'] < 3].shape[0]\n",
    "    ],\n",
    "    [\n",
    "        absentee_subset_remote[absentee_subset_remote['numListings'] >= 3].shape[0],\n",
    "        absentee_subset_remote[absentee_subset_remote['numListings'] < 3].shape[0]\n",
    "    ]\n",
    "]"
   ]
  },
  {
   "cell_type": "code",
   "execution_count": 25,
   "metadata": {},
   "outputs": [],
   "source": [
    "results = scipy.stats.chi2_contingency(contingency)"
   ]
  },
  {
   "cell_type": "code",
   "execution_count": 26,
   "metadata": {},
   "outputs": [
    {
     "name": "stdout",
     "output_type": "stream",
     "text": [
      "Finding (p < 0.05)\n"
     ]
    }
   ],
   "source": [
    "p_value = results[1]\n",
    "\n",
    "if p_value < 0.05:\n",
    "    msg = 'Finding (p < 0.05)'\n",
    "else:\n",
    "    msg = 'No finding (p >= 0.05)'\n",
    "\n",
    "print(msg)"
   ]
  },
  {
   "cell_type": "code",
   "execution_count": 27,
   "metadata": {},
   "outputs": [
    {
     "data": {
      "text/plain": [
       "[[363, 3349], [69, 405]]"
      ]
     },
     "execution_count": 27,
     "metadata": {},
     "output_type": "execute_result"
    }
   ],
   "source": [
    "contingency"
   ]
  },
  {
   "cell_type": "markdown",
   "metadata": {},
   "source": [
    "Percent of local hosts have many (>= 3 listings)"
   ]
  },
  {
   "cell_type": "code",
   "execution_count": 28,
   "metadata": {},
   "outputs": [
    {
     "data": {
      "text/plain": [
       "0.09779094827586207"
      ]
     },
     "execution_count": 28,
     "metadata": {},
     "output_type": "execute_result"
    }
   ],
   "source": [
    "contingency[0][0] / (contingency[0][0] + contingency[0][1])"
   ]
  },
  {
   "cell_type": "markdown",
   "metadata": {},
   "source": [
    "Percent of remote (potentially absentee) hosts have many (>= 3 listings)"
   ]
  },
  {
   "cell_type": "code",
   "execution_count": 29,
   "metadata": {},
   "outputs": [
    {
     "data": {
      "text/plain": [
       "0.14556962025316456"
      ]
     },
     "execution_count": 29,
     "metadata": {},
     "output_type": "execute_result"
    }
   ],
   "source": [
    "contingency[1][0] / (contingency[1][0] + contingency[1][1])"
   ]
  },
  {
   "cell_type": "markdown",
   "metadata": {},
   "source": [
    "**Absentee landlord network**"
   ]
  },
  {
   "cell_type": "markdown",
   "metadata": {},
   "source": [
    "Percent of listings by potentially absentee host with many (>= 3) listings"
   ]
  },
  {
   "cell_type": "code",
   "execution_count": 30,
   "metadata": {},
   "outputs": [
    {
     "data": {
      "text/plain": [
       "0.11402463249900675"
      ]
     },
     "execution_count": 30,
     "metadata": {},
     "output_type": "execute_result"
    }
   ],
   "source": [
    "absentee_subset_remote[absentee_subset_remote['numListings'] >= 3]['numListings'].sum() / absentee_detailed['numListings'].sum()"
   ]
  },
  {
   "cell_type": "markdown",
   "metadata": {},
   "source": [
    "Percent of hosts are potentially absentee host with many (>= 3) listings"
   ]
  },
  {
   "cell_type": "code",
   "execution_count": 31,
   "metadata": {},
   "outputs": [
    {
     "data": {
      "text/plain": [
       "0.016483516483516484"
      ]
     },
     "execution_count": 31,
     "metadata": {},
     "output_type": "execute_result"
    }
   ],
   "source": [
    "absentee_subset_remote[absentee_subset_remote['numListings'] >= 3].shape[0] / absentee_detailed['numListings'].shape[0]"
   ]
  },
  {
   "cell_type": "markdown",
   "metadata": {},
   "source": [
    "# Zoning / Property Type"
   ]
  },
  {
   "cell_type": "markdown",
   "metadata": {},
   "source": [
    "**Zoning Info**"
   ]
  },
  {
   "cell_type": "code",
   "execution_count": 32,
   "metadata": {},
   "outputs": [],
   "source": [
    "zoning_info = execute_sql(\n",
    "    '''\n",
    "    SELECT\n",
    "        zoningSimplified,\n",
    "        count(1) AS cnt\n",
    "    FROM\n",
    "        listings_with_zone_filtered\n",
    "    GROUP BY\n",
    "        zoningSimplified\n",
    "    ORDER BY\n",
    "        cnt DESC\n",
    "    '''\n",
    ")"
   ]
  },
  {
   "cell_type": "code",
   "execution_count": 33,
   "metadata": {},
   "outputs": [],
   "source": [
    "zoning_info['isHouse'] = zoning_info['zoningSimplified'].apply(lambda x: 'Family House' in x)"
   ]
  },
  {
   "cell_type": "markdown",
   "metadata": {},
   "source": [
    "Percent in RH-like"
   ]
  },
  {
   "cell_type": "code",
   "execution_count": 34,
   "metadata": {},
   "outputs": [
    {
     "data": {
      "text/plain": [
       "0.4917229506025692"
      ]
     },
     "execution_count": 34,
     "metadata": {},
     "output_type": "execute_result"
    }
   ],
   "source": [
    "zoning_info[zoning_info['isHouse'] == True]['cnt'].sum() / zoning_info['cnt'].sum()"
   ]
  },
  {
   "cell_type": "code",
   "execution_count": 35,
   "metadata": {},
   "outputs": [],
   "source": [
    "zoning_info['percent'] = zoning_info['cnt'] / zoning_info['cnt'].sum() * 100"
   ]
  },
  {
   "cell_type": "markdown",
   "metadata": {},
   "source": [
    "Percent of RH in RH1-like"
   ]
  },
  {
   "cell_type": "code",
   "execution_count": 36,
   "metadata": {},
   "outputs": [
    {
     "data": {
      "text/plain": [
       "0.38755723134931325"
      ]
     },
     "execution_count": 36,
     "metadata": {},
     "output_type": "execute_result"
    }
   ],
   "source": [
    "zoning_info[zoning_info['zoningSimplified'] == 'One Family House']['cnt'].sum() / zoning_info[zoning_info['isHouse'] == True]['cnt'].sum()"
   ]
  },
  {
   "cell_type": "code",
   "execution_count": 37,
   "metadata": {},
   "outputs": [
    {
     "data": {
      "text/plain": [
       "Text(0, 0.5, '')"
      ]
     },
     "execution_count": 37,
     "metadata": {},
     "output_type": "execute_result"
    },
    {
     "data": {
      "image/png": "[encoded data removed]",
      "text/plain": [
       "<Figure size 720x360 with 1 Axes>"
      ]
     },
     "metadata": {
      "needs_background": "light"
     },
     "output_type": "display_data"
    }
   ],
   "source": [
    "ax = zoning_info.head(5).sort_values('percent').plot.barh(\n",
    "    title='Top 5 Zonings for Listings Overall',\n",
    "    x='zoningSimplified',\n",
    "    y='percent',\n",
    "    legend=None,\n",
    "    figsize=(10, 5)\n",
    ")\n",
    "\n",
    "ax.set_xlim(0, 20)\n",
    "ax.set_xlabel('Percent')\n",
    "ax.set_ylabel('')"
   ]
  },
  {
   "cell_type": "code",
   "execution_count": 38,
   "metadata": {},
   "outputs": [
    {
     "data": {
      "text/html": [
       "<div>\n",
       "<style scoped>\n",
       "    .dataframe tbody tr th:only-of-type {\n",
       "        vertical-align: middle;\n",
       "    }\n",
       "\n",
       "    .dataframe tbody tr th {\n",
       "        vertical-align: top;\n",
       "    }\n",
       "\n",
       "    .dataframe thead th {\n",
       "        text-align: right;\n",
       "    }\n",
       "</style>\n",
       "<table border=\"1\" class=\"dataframe\">\n",
       "  <thead>\n",
       "    <tr style=\"text-align: right;\">\n",
       "      <th></th>\n",
       "      <th>zoningSimplified</th>\n",
       "      <th>cnt</th>\n",
       "      <th>isHouse</th>\n",
       "      <th>percent</th>\n",
       "    </tr>\n",
       "  </thead>\n",
       "  <tbody>\n",
       "    <tr>\n",
       "      <th>0</th>\n",
       "      <td>Two Family House</td>\n",
       "      <td>1463</td>\n",
       "      <td>True</td>\n",
       "      <td>19.374917</td>\n",
       "    </tr>\n",
       "    <tr>\n",
       "      <th>1</th>\n",
       "      <td>One Family House</td>\n",
       "      <td>1439</td>\n",
       "      <td>True</td>\n",
       "      <td>19.057079</td>\n",
       "    </tr>\n",
       "    <tr>\n",
       "      <th>2</th>\n",
       "      <td>Mixed Apartments and House</td>\n",
       "      <td>907</td>\n",
       "      <td>False</td>\n",
       "      <td>12.011654</td>\n",
       "    </tr>\n",
       "    <tr>\n",
       "      <th>3</th>\n",
       "      <td>Three Family House</td>\n",
       "      <td>809</td>\n",
       "      <td>True</td>\n",
       "      <td>10.713813</td>\n",
       "    </tr>\n",
       "    <tr>\n",
       "      <th>4</th>\n",
       "      <td>Neighborhood Commercial</td>\n",
       "      <td>779</td>\n",
       "      <td>False</td>\n",
       "      <td>10.316514</td>\n",
       "    </tr>\n",
       "    <tr>\n",
       "      <th>5</th>\n",
       "      <td>Public</td>\n",
       "      <td>526</td>\n",
       "      <td>False</td>\n",
       "      <td>6.965965</td>\n",
       "    </tr>\n",
       "    <tr>\n",
       "      <th>6</th>\n",
       "      <td>Other Mixed Use</td>\n",
       "      <td>389</td>\n",
       "      <td>False</td>\n",
       "      <td>5.151636</td>\n",
       "    </tr>\n",
       "    <tr>\n",
       "      <th>7</th>\n",
       "      <td>Commercial</td>\n",
       "      <td>361</td>\n",
       "      <td>False</td>\n",
       "      <td>4.780824</td>\n",
       "    </tr>\n",
       "    <tr>\n",
       "      <th>8</th>\n",
       "      <td>Residential Commercial</td>\n",
       "      <td>320</td>\n",
       "      <td>False</td>\n",
       "      <td>4.237849</td>\n",
       "    </tr>\n",
       "    <tr>\n",
       "      <th>9</th>\n",
       "      <td>RTO</td>\n",
       "      <td>280</td>\n",
       "      <td>False</td>\n",
       "      <td>3.708118</td>\n",
       "    </tr>\n",
       "    <tr>\n",
       "      <th>10</th>\n",
       "      <td>Other Residential</td>\n",
       "      <td>102</td>\n",
       "      <td>False</td>\n",
       "      <td>1.350814</td>\n",
       "    </tr>\n",
       "    <tr>\n",
       "      <th>11</th>\n",
       "      <td>PDR</td>\n",
       "      <td>61</td>\n",
       "      <td>False</td>\n",
       "      <td>0.807840</td>\n",
       "    </tr>\n",
       "    <tr>\n",
       "      <th>12</th>\n",
       "      <td>RED</td>\n",
       "      <td>41</td>\n",
       "      <td>False</td>\n",
       "      <td>0.542974</td>\n",
       "    </tr>\n",
       "    <tr>\n",
       "      <th>13</th>\n",
       "      <td>Industrial</td>\n",
       "      <td>27</td>\n",
       "      <td>False</td>\n",
       "      <td>0.357569</td>\n",
       "    </tr>\n",
       "    <tr>\n",
       "      <th>14</th>\n",
       "      <td>Regional Commercial</td>\n",
       "      <td>23</td>\n",
       "      <td>False</td>\n",
       "      <td>0.304595</td>\n",
       "    </tr>\n",
       "    <tr>\n",
       "      <th>15</th>\n",
       "      <td>unknown</td>\n",
       "      <td>20</td>\n",
       "      <td>False</td>\n",
       "      <td>0.264866</td>\n",
       "    </tr>\n",
       "    <tr>\n",
       "      <th>16</th>\n",
       "      <td>One Family House Subordinate</td>\n",
       "      <td>2</td>\n",
       "      <td>True</td>\n",
       "      <td>0.026487</td>\n",
       "    </tr>\n",
       "    <tr>\n",
       "      <th>17</th>\n",
       "      <td>Open Space</td>\n",
       "      <td>2</td>\n",
       "      <td>False</td>\n",
       "      <td>0.026487</td>\n",
       "    </tr>\n",
       "  </tbody>\n",
       "</table>\n",
       "</div>"
      ],
      "text/plain": [
       "                zoningSimplified   cnt  isHouse    percent\n",
       "0               Two Family House  1463     True  19.374917\n",
       "1               One Family House  1439     True  19.057079\n",
       "2     Mixed Apartments and House   907    False  12.011654\n",
       "3             Three Family House   809     True  10.713813\n",
       "4        Neighborhood Commercial   779    False  10.316514\n",
       "5                         Public   526    False   6.965965\n",
       "6                Other Mixed Use   389    False   5.151636\n",
       "7                     Commercial   361    False   4.780824\n",
       "8         Residential Commercial   320    False   4.237849\n",
       "9                            RTO   280    False   3.708118\n",
       "10             Other Residential   102    False   1.350814\n",
       "11                           PDR    61    False   0.807840\n",
       "12                           RED    41    False   0.542974\n",
       "13                    Industrial    27    False   0.357569\n",
       "14           Regional Commercial    23    False   0.304595\n",
       "15                       unknown    20    False   0.264866\n",
       "16  One Family House Subordinate     2     True   0.026487\n",
       "17                    Open Space     2    False   0.026487"
      ]
     },
     "execution_count": 38,
     "metadata": {},
     "output_type": "execute_result"
    }
   ],
   "source": [
    "zoning_info"
   ]
  },
  {
   "cell_type": "markdown",
   "metadata": {},
   "source": [
    "**Attribution of Listings**"
   ]
  },
  {
   "cell_type": "code",
   "execution_count": 39,
   "metadata": {},
   "outputs": [],
   "source": [
    "absentee_listing_data = execute_sql(\n",
    "    '''\n",
    "    SELECT\n",
    "        info_joined.potentialAbsenteeHost AS potentialAbsenteeHost,\n",
    "        sum(\n",
    "            CASE\n",
    "                WHEN isFamilyHouse = 1 THEN 1\n",
    "                ELSE 0\n",
    "            END\n",
    "        ) AS numFamilyHome,\n",
    "        sum(\n",
    "            CASE\n",
    "                WHEN isFamilyHouse = 1 THEN 0\n",
    "                ELSE 1\n",
    "            END\n",
    "        ) AS numOther\n",
    "    FROM\n",
    "        (\n",
    "            SELECT\n",
    "                family_house_hosts.hostId AS hostId,\n",
    "                (\n",
    "                    CASE\n",
    "                        WHEN host_info.isLocal = 0 AND host_info.numListings >= 3 THEN 1\n",
    "                        ELSE 0\n",
    "                    END\n",
    "                ) AS potentialAbsenteeHost,\n",
    "                family_house_hosts.isFamilyHouse AS isFamilyHouse\n",
    "            FROM\n",
    "                (\n",
    "                    SELECT\n",
    "                        hostId,\n",
    "                        zoningSimplified like \"%Family House%\" AS isFamilyHouse\n",
    "                    FROM\n",
    "                        listings_with_zone_filtered\n",
    "                ) family_house_hosts\n",
    "            INNER JOIN\n",
    "                (\n",
    "                    SELECT\n",
    "                        hostId,\n",
    "                        (\n",
    "                            CASE\n",
    "                                WHEN hosts_local.isLocalCnt + 0.0 > 0 THEN 1\n",
    "                                ELSE 0\n",
    "                            END\n",
    "                        ) AS isLocal,\n",
    "                        numListings\n",
    "                    FROM\n",
    "                        (\n",
    "                            SELECT\n",
    "                                sum(\n",
    "                                    CASE\n",
    "                                        WHEN hostLocation like \"%San Francisco%\" THEN 1\n",
    "                                        WHEN hostLocation like \"%California%\" THEN 1\n",
    "                                        ELSE 0\n",
    "                                    END\n",
    "                                ) AS isLocalCnt,\n",
    "                                hostId,\n",
    "                                count(1) AS numListings\n",
    "                            FROM\n",
    "                                listings_with_zone_filtered\n",
    "                            GROUP BY\n",
    "                                hostId\n",
    "                        ) hosts_local\n",
    "                ) host_info\n",
    "            ON\n",
    "                host_info.hostId = family_house_hosts.hostId\n",
    "        ) info_joined\n",
    "    GROUP BY\n",
    "        info_joined.potentialAbsenteeHost\n",
    "    '''\n",
    ")"
   ]
  },
  {
   "cell_type": "code",
   "execution_count": 40,
   "metadata": {},
   "outputs": [],
   "source": [
    "results = scipy.stats.chi2_contingency(absentee_listing_data[['numFamilyHome', 'numOther']].to_numpy())"
   ]
  },
  {
   "cell_type": "code",
   "execution_count": 41,
   "metadata": {},
   "outputs": [],
   "source": [
    "p_value = results[1]\n",
    "\n",
    "if p_value < 0.05:\n",
    "    msg = 'Finding (p < 0.05)'\n",
    "else:\n",
    "    msg = 'No Finding (p < 0.05)'"
   ]
  },
  {
   "cell_type": "code",
   "execution_count": 42,
   "metadata": {},
   "outputs": [
    {
     "name": "stdout",
     "output_type": "stream",
     "text": [
      "Finding (p < 0.05)\n"
     ]
    }
   ],
   "source": [
    "print(msg)"
   ]
  },
  {
   "cell_type": "code",
   "execution_count": 43,
   "metadata": {},
   "outputs": [],
   "source": [
    "absentee_listing_data['percentFamily'] = absentee_listing_data.apply(lambda x: x['numFamilyHome'] / (x['numFamilyHome'] + x['numOther']), axis=1)"
   ]
  },
  {
   "cell_type": "markdown",
   "metadata": {},
   "source": [
    "Percent of listings in family houses (RH 1-3) by status of if potential absentee host with many listings."
   ]
  },
  {
   "cell_type": "code",
   "execution_count": 46,
   "metadata": {},
   "outputs": [
    {
     "data": {
      "text/html": [
       "<div>\n",
       "<style scoped>\n",
       "    .dataframe tbody tr th:only-of-type {\n",
       "        vertical-align: middle;\n",
       "    }\n",
       "\n",
       "    .dataframe tbody tr th {\n",
       "        vertical-align: top;\n",
       "    }\n",
       "\n",
       "    .dataframe thead th {\n",
       "        text-align: right;\n",
       "    }\n",
       "</style>\n",
       "<table border=\"1\" class=\"dataframe\">\n",
       "  <thead>\n",
       "    <tr style=\"text-align: right;\">\n",
       "      <th></th>\n",
       "      <th>potentialAbsenteeHost</th>\n",
       "      <th>numFamilyHome</th>\n",
       "      <th>numOther</th>\n",
       "      <th>percentFamily</th>\n",
       "    </tr>\n",
       "  </thead>\n",
       "  <tbody>\n",
       "    <tr>\n",
       "      <th>0</th>\n",
       "      <td>0</td>\n",
       "      <td>3508</td>\n",
       "      <td>3182</td>\n",
       "      <td>0.524365</td>\n",
       "    </tr>\n",
       "    <tr>\n",
       "      <th>1</th>\n",
       "      <td>1</td>\n",
       "      <td>205</td>\n",
       "      <td>656</td>\n",
       "      <td>0.238095</td>\n",
       "    </tr>\n",
       "  </tbody>\n",
       "</table>\n",
       "</div>"
      ],
      "text/plain": [
       "   potentialAbsenteeHost  numFamilyHome  numOther  percentFamily\n",
       "0                      0           3508      3182       0.524365\n",
       "1                      1            205       656       0.238095"
      ]
     },
     "execution_count": 46,
     "metadata": {},
     "output_type": "execute_result"
    }
   ],
   "source": [
    "absentee_listing_data"
   ]
  },
  {
   "cell_type": "code",
   "execution_count": 47,
   "metadata": {},
   "outputs": [],
   "source": [
    "absentee_family = absentee_listing_data[absentee_listing_data['potentialAbsenteeHost'] == 1]\n",
    "non_absentee_family = absentee_listing_data[absentee_listing_data['potentialAbsenteeHost'] == 0]"
   ]
  },
  {
   "cell_type": "markdown",
   "metadata": {},
   "source": [
    "**Potential Absentee Zones**"
   ]
  },
  {
   "cell_type": "code",
   "execution_count": 48,
   "metadata": {},
   "outputs": [],
   "source": [
    "zoning_absentee = execute_sql(\n",
    "    '''\n",
    "    SELECT\n",
    "        joined_detailed.zoningSimplified AS zoningSimplified,\n",
    "        count(1) AS cnt\n",
    "    FROM\n",
    "        (\n",
    "            SELECT\n",
    "                family_house_hosts.hostId AS hostId,\n",
    "                (\n",
    "                    CASE\n",
    "                        WHEN host_info.isLocal = 0 AND host_info.numListings >= 3 THEN 1\n",
    "                        ELSE 0\n",
    "                    END\n",
    "                ) AS potentialAbsenteeHost,\n",
    "                family_house_hosts.isFamilyHouse AS isFamilyHouse,\n",
    "                family_house_hosts.zoningSimplified AS zoningSimplified\n",
    "            FROM\n",
    "                (\n",
    "                    SELECT\n",
    "                        hostId,\n",
    "                        zoningSimplified like \"%Family House%\" AS isFamilyHouse,\n",
    "                        zoningSimplified\n",
    "                    FROM\n",
    "                        listings_with_zone_filtered\n",
    "                ) family_house_hosts\n",
    "            INNER JOIN\n",
    "                (\n",
    "                    SELECT\n",
    "                        hostId,\n",
    "                        (\n",
    "                            CASE\n",
    "                                WHEN hosts_local.isLocalCnt + 0.0 > 0 THEN 1\n",
    "                                ELSE 0\n",
    "                            END\n",
    "                        ) AS isLocal,\n",
    "                        numListings\n",
    "                    FROM\n",
    "                        (\n",
    "                            SELECT\n",
    "                                sum(\n",
    "                                    CASE\n",
    "                                        WHEN hostLocation like \"%San Francisco%\" THEN 1\n",
    "                                        WHEN hostLocation like \"%California%\" THEN 1\n",
    "                                        ELSE 0\n",
    "                                    END\n",
    "                                ) AS isLocalCnt,\n",
    "                                hostId,\n",
    "                                count(1) AS numListings\n",
    "                            FROM\n",
    "                                listings_with_zone_filtered\n",
    "                            GROUP BY\n",
    "                                hostId\n",
    "                        ) hosts_local\n",
    "                ) host_info\n",
    "            ON\n",
    "                host_info.hostId = family_house_hosts.hostId\n",
    "        ) joined_detailed\n",
    "    WHERE\n",
    "        joined_detailed.potentialAbsenteeHost = 1\n",
    "    GROUP BY\n",
    "        zoningSimplified\n",
    "    ORDER BY\n",
    "        cnt DESC\n",
    "    '''\n",
    ")"
   ]
  },
  {
   "cell_type": "code",
   "execution_count": 49,
   "metadata": {},
   "outputs": [],
   "source": [
    "zoning_absentee['percent'] = zoning_absentee['cnt'] / zoning_absentee['cnt'].sum() * 100"
   ]
  },
  {
   "cell_type": "code",
   "execution_count": 50,
   "metadata": {},
   "outputs": [
    {
     "data": {
      "text/plain": [
       "Text(0, 0.5, '')"
      ]
     },
     "execution_count": 50,
     "metadata": {},
     "output_type": "execute_result"
    },
    {
     "data": {
      "image/png": "[encoded data removed]",
      "text/plain": [
       "<Figure size 720x360 with 1 Axes>"
      ]
     },
     "metadata": {
      "needs_background": "light"
     },
     "output_type": "display_data"
    }
   ],
   "source": [
    "ax = zoning_absentee.head(5).sort_values('percent').plot.barh(\n",
    "    title='Top 5 Zoning for Remote Hosts with 3 or More Listings',\n",
    "    x='zoningSimplified',\n",
    "    y='percent',\n",
    "    legend=False,\n",
    "    figsize=(10,5)\n",
    ")\n",
    "ax.set_xlim(0, 20)\n",
    "ax.set_xlabel('Percent')\n",
    "ax.set_ylabel('')"
   ]
  },
  {
   "cell_type": "code",
   "execution_count": 51,
   "metadata": {},
   "outputs": [],
   "source": [
    "zoning_local = execute_sql(\n",
    "    '''\n",
    "    SELECT\n",
    "        joined_detailed.zoningSimplified AS zoningSimplified,\n",
    "        count(1) AS cnt\n",
    "    FROM\n",
    "        (\n",
    "            SELECT\n",
    "                family_house_hosts.hostId AS hostId,\n",
    "                (\n",
    "                    CASE\n",
    "                        WHEN host_info.isLocal = 1 AND host_info.numListings < 3 THEN 1\n",
    "                        ELSE 0\n",
    "                    END\n",
    "                ) AS potentialLocalHost,\n",
    "                family_house_hosts.isFamilyHouse AS isFamilyHouse,\n",
    "                family_house_hosts.zoningSimplified AS zoningSimplified\n",
    "            FROM\n",
    "                (\n",
    "                    SELECT\n",
    "                        hostId,\n",
    "                        zoningSimplified like \"%Family House%\" AS isFamilyHouse,\n",
    "                        zoningSimplified\n",
    "                    FROM\n",
    "                        listings_with_zone_filtered\n",
    "                ) family_house_hosts\n",
    "            INNER JOIN\n",
    "                (\n",
    "                    SELECT\n",
    "                        hostId,\n",
    "                        (\n",
    "                            CASE\n",
    "                                WHEN hosts_local.isLocalCnt + 0.0 > 0 THEN 1\n",
    "                                ELSE 0\n",
    "                            END\n",
    "                        ) AS isLocal,\n",
    "                        numListings\n",
    "                    FROM\n",
    "                        (\n",
    "                            SELECT\n",
    "                                sum(\n",
    "                                    CASE\n",
    "                                        WHEN hostLocation like \"%San Francisco%\" THEN 1\n",
    "                                        WHEN hostLocation like \"%California%\" THEN 1\n",
    "                                        ELSE 0\n",
    "                                    END\n",
    "                                ) AS isLocalCnt,\n",
    "                                hostId,\n",
    "                                count(1) AS numListings\n",
    "                            FROM\n",
    "                                listings_with_zone_filtered\n",
    "                            GROUP BY\n",
    "                                hostId\n",
    "                        ) hosts_local\n",
    "                ) host_info\n",
    "            ON\n",
    "                host_info.hostId = family_house_hosts.hostId\n",
    "        ) joined_detailed\n",
    "    WHERE\n",
    "        joined_detailed.potentialLocalHost = 1\n",
    "    GROUP BY\n",
    "        zoningSimplified\n",
    "    ORDER BY\n",
    "        cnt DESC\n",
    "    '''\n",
    ")"
   ]
  },
  {
   "cell_type": "code",
   "execution_count": 52,
   "metadata": {},
   "outputs": [],
   "source": [
    "zoning_local['percent'] = zoning_local['cnt'] / zoning_local['cnt'].sum() * 100"
   ]
  },
  {
   "cell_type": "code",
   "execution_count": 53,
   "metadata": {},
   "outputs": [
    {
     "data": {
      "text/html": [
       "<div>\n",
       "<style scoped>\n",
       "    .dataframe tbody tr th:only-of-type {\n",
       "        vertical-align: middle;\n",
       "    }\n",
       "\n",
       "    .dataframe tbody tr th {\n",
       "        vertical-align: top;\n",
       "    }\n",
       "\n",
       "    .dataframe thead th {\n",
       "        text-align: right;\n",
       "    }\n",
       "</style>\n",
       "<table border=\"1\" class=\"dataframe\">\n",
       "  <thead>\n",
       "    <tr style=\"text-align: right;\">\n",
       "      <th></th>\n",
       "      <th>zoningSimplified</th>\n",
       "      <th>cnt</th>\n",
       "      <th>percent</th>\n",
       "    </tr>\n",
       "  </thead>\n",
       "  <tbody>\n",
       "    <tr>\n",
       "      <th>0</th>\n",
       "      <td>Two Family House</td>\n",
       "      <td>959</td>\n",
       "      <td>24.420677</td>\n",
       "    </tr>\n",
       "    <tr>\n",
       "      <th>1</th>\n",
       "      <td>One Family House</td>\n",
       "      <td>873</td>\n",
       "      <td>22.230710</td>\n",
       "    </tr>\n",
       "    <tr>\n",
       "      <th>2</th>\n",
       "      <td>Three Family House</td>\n",
       "      <td>477</td>\n",
       "      <td>12.146677</td>\n",
       "    </tr>\n",
       "    <tr>\n",
       "      <th>3</th>\n",
       "      <td>Mixed Apartments and House</td>\n",
       "      <td>405</td>\n",
       "      <td>10.313216</td>\n",
       "    </tr>\n",
       "    <tr>\n",
       "      <th>4</th>\n",
       "      <td>Neighborhood Commercial</td>\n",
       "      <td>360</td>\n",
       "      <td>9.167303</td>\n",
       "    </tr>\n",
       "  </tbody>\n",
       "</table>\n",
       "</div>"
      ],
      "text/plain": [
       "             zoningSimplified  cnt    percent\n",
       "0            Two Family House  959  24.420677\n",
       "1            One Family House  873  22.230710\n",
       "2          Three Family House  477  12.146677\n",
       "3  Mixed Apartments and House  405  10.313216\n",
       "4     Neighborhood Commercial  360   9.167303"
      ]
     },
     "execution_count": 53,
     "metadata": {},
     "output_type": "execute_result"
    }
   ],
   "source": [
    "zoning_local.head(5)"
   ]
  }
 ],
 "metadata": {
  "kernelspec": {
   "display_name": "Python 3",
   "language": "python",
   "name": "python3"
  },
  "language_info": {
   "codemirror_mode": {
    "name": "ipython",
    "version": 3
   },
   "file_extension": ".py",
   "mimetype": "text/x-python",
   "name": "python",
   "nbconvert_exporter": "python",
   "pygments_lexer": "ipython3",
   "version": "3.7.1"
  }
 },
 "nbformat": 4,
 "nbformat_minor": 2
}
